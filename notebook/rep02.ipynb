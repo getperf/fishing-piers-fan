{
 "cells": [
  {
   "cell_type": "code",
   "execution_count": 2,
   "metadata": {},
   "outputs": [],
   "source": [
    "import pandas as pd\n",
    "import matplotlib.pyplot as plt\n",
    "import japanize_matplotlib\n",
    "import datetime"
   ]
  },
  {
   "cell_type": "code",
   "execution_count": 14,
   "metadata": {
    "scrolled": false
   },
   "outputs": [
    {
     "data": {
      "text/html": [
       "<div>\n",
       "<style scoped>\n",
       "    .dataframe tbody tr th:only-of-type {\n",
       "        vertical-align: middle;\n",
       "    }\n",
       "\n",
       "    .dataframe tbody tr th {\n",
       "        vertical-align: top;\n",
       "    }\n",
       "\n",
       "    .dataframe thead th {\n",
       "        text-align: right;\n",
       "    }\n",
       "</style>\n",
       "<table border=\"1\" class=\"dataframe\">\n",
       "  <thead>\n",
       "    <tr style=\"text-align: right;\">\n",
       "      <th></th>\n",
       "      <th>temp</th>\n",
       "      <th>humidity</th>\n",
       "      <th>watt</th>\n",
       "      <th>irms</th>\n",
       "      <th>vrms</th>\n",
       "      <th>power_factor</th>\n",
       "    </tr>\n",
       "  </thead>\n",
       "  <tbody>\n",
       "    <tr>\n",
       "      <th>count</th>\n",
       "      <td>3353.000000</td>\n",
       "      <td>3353.000000</td>\n",
       "      <td>3353.000000</td>\n",
       "      <td>3353.000000</td>\n",
       "      <td>3353.000000</td>\n",
       "      <td>3353.000000</td>\n",
       "    </tr>\n",
       "    <tr>\n",
       "      <th>mean</th>\n",
       "      <td>20.204957</td>\n",
       "      <td>44.687891</td>\n",
       "      <td>15.031977</td>\n",
       "      <td>1.179505</td>\n",
       "      <td>12.438482</td>\n",
       "      <td>99.208181</td>\n",
       "    </tr>\n",
       "    <tr>\n",
       "      <th>std</th>\n",
       "      <td>0.612839</td>\n",
       "      <td>2.890993</td>\n",
       "      <td>7.609530</td>\n",
       "      <td>0.304469</td>\n",
       "      <td>2.666152</td>\n",
       "      <td>1.691681</td>\n",
       "    </tr>\n",
       "    <tr>\n",
       "      <th>min</th>\n",
       "      <td>19.150000</td>\n",
       "      <td>38.160000</td>\n",
       "      <td>9.640000</td>\n",
       "      <td>0.950000</td>\n",
       "      <td>10.130000</td>\n",
       "      <td>89.510000</td>\n",
       "    </tr>\n",
       "    <tr>\n",
       "      <th>25%</th>\n",
       "      <td>19.810000</td>\n",
       "      <td>42.620000</td>\n",
       "      <td>10.990000</td>\n",
       "      <td>1.020000</td>\n",
       "      <td>10.740000</td>\n",
       "      <td>98.690000</td>\n",
       "    </tr>\n",
       "    <tr>\n",
       "      <th>50%</th>\n",
       "      <td>20.050000</td>\n",
       "      <td>45.150000</td>\n",
       "      <td>12.820000</td>\n",
       "      <td>1.100000</td>\n",
       "      <td>11.880000</td>\n",
       "      <td>99.400000</td>\n",
       "    </tr>\n",
       "    <tr>\n",
       "      <th>75%</th>\n",
       "      <td>20.620000</td>\n",
       "      <td>46.840000</td>\n",
       "      <td>15.600000</td>\n",
       "      <td>1.200000</td>\n",
       "      <td>12.970000</td>\n",
       "      <td>99.990000</td>\n",
       "    </tr>\n",
       "    <tr>\n",
       "      <th>max</th>\n",
       "      <td>21.740000</td>\n",
       "      <td>50.790000</td>\n",
       "      <td>110.090000</td>\n",
       "      <td>3.860000</td>\n",
       "      <td>36.580000</td>\n",
       "      <td>118.510000</td>\n",
       "    </tr>\n",
       "  </tbody>\n",
       "</table>\n",
       "</div>"
      ],
      "text/plain": [
       "              temp     humidity         watt         irms         vrms  \\\n",
       "count  3353.000000  3353.000000  3353.000000  3353.000000  3353.000000   \n",
       "mean     20.204957    44.687891    15.031977     1.179505    12.438482   \n",
       "std       0.612839     2.890993     7.609530     0.304469     2.666152   \n",
       "min      19.150000    38.160000     9.640000     0.950000    10.130000   \n",
       "25%      19.810000    42.620000    10.990000     1.020000    10.740000   \n",
       "50%      20.050000    45.150000    12.820000     1.100000    11.880000   \n",
       "75%      20.620000    46.840000    15.600000     1.200000    12.970000   \n",
       "max      21.740000    50.790000   110.090000     3.860000    36.580000   \n",
       "\n",
       "       power_factor  \n",
       "count   3353.000000  \n",
       "mean      99.208181  \n",
       "std        1.691681  \n",
       "min       89.510000  \n",
       "25%       98.690000  \n",
       "50%       99.400000  \n",
       "75%       99.990000  \n",
       "max      118.510000  "
      ]
     },
     "execution_count": 14,
     "metadata": {},
     "output_type": "execute_result"
    }
   ],
   "source": [
    "df = pd.read_excel('dat/expambient_2020121210.xlsx', sheet_name='power-monitor')\n",
    "del df['Unnamed: 0']\n",
    "df.rename(columns={\n",
    "    '更新時刻': 'time', '場所': 'place', '温度':'temp', '湿度':'humidity',\n",
    "    'ワット': 'watt', '電流': 'irms', '電圧': 'vrms', '力率' : 'power_factor'\n",
    "    },inplace=True)\n",
    "df.describe()"
   ]
  },
  {
   "cell_type": "markdown",
   "metadata": {},
   "source": [
    "# Watts, voltage"
   ]
  },
  {
   "cell_type": "code",
   "execution_count": 25,
   "metadata": {},
   "outputs": [
    {
     "data": {
      "text/html": [
       "<div>\n",
       "<style scoped>\n",
       "    .dataframe tbody tr th:only-of-type {\n",
       "        vertical-align: middle;\n",
       "    }\n",
       "\n",
       "    .dataframe tbody tr th {\n",
       "        vertical-align: top;\n",
       "    }\n",
       "\n",
       "    .dataframe thead th {\n",
       "        text-align: right;\n",
       "    }\n",
       "</style>\n",
       "<table border=\"1\" class=\"dataframe\">\n",
       "  <thead>\n",
       "    <tr style=\"text-align: right;\">\n",
       "      <th></th>\n",
       "      <th>watt</th>\n",
       "      <th>irms</th>\n",
       "      <th>vrms</th>\n",
       "    </tr>\n",
       "  </thead>\n",
       "  <tbody>\n",
       "    <tr>\n",
       "      <th>count</th>\n",
       "      <td>3353.000000</td>\n",
       "      <td>3353.000000</td>\n",
       "      <td>3353.000000</td>\n",
       "    </tr>\n",
       "    <tr>\n",
       "      <th>mean</th>\n",
       "      <td>15.031977</td>\n",
       "      <td>1.179505</td>\n",
       "      <td>12.438482</td>\n",
       "    </tr>\n",
       "    <tr>\n",
       "      <th>std</th>\n",
       "      <td>7.609530</td>\n",
       "      <td>0.304469</td>\n",
       "      <td>2.666152</td>\n",
       "    </tr>\n",
       "    <tr>\n",
       "      <th>min</th>\n",
       "      <td>9.640000</td>\n",
       "      <td>0.950000</td>\n",
       "      <td>10.130000</td>\n",
       "    </tr>\n",
       "    <tr>\n",
       "      <th>25%</th>\n",
       "      <td>10.990000</td>\n",
       "      <td>1.020000</td>\n",
       "      <td>10.740000</td>\n",
       "    </tr>\n",
       "    <tr>\n",
       "      <th>50%</th>\n",
       "      <td>12.820000</td>\n",
       "      <td>1.100000</td>\n",
       "      <td>11.880000</td>\n",
       "    </tr>\n",
       "    <tr>\n",
       "      <th>75%</th>\n",
       "      <td>15.600000</td>\n",
       "      <td>1.200000</td>\n",
       "      <td>12.970000</td>\n",
       "    </tr>\n",
       "    <tr>\n",
       "      <th>max</th>\n",
       "      <td>110.090000</td>\n",
       "      <td>3.860000</td>\n",
       "      <td>36.580000</td>\n",
       "    </tr>\n",
       "  </tbody>\n",
       "</table>\n",
       "</div>"
      ],
      "text/plain": [
       "              watt         irms         vrms\n",
       "count  3353.000000  3353.000000  3353.000000\n",
       "mean     15.031977     1.179505    12.438482\n",
       "std       7.609530     0.304469     2.666152\n",
       "min       9.640000     0.950000    10.130000\n",
       "25%      10.990000     1.020000    10.740000\n",
       "50%      12.820000     1.100000    11.880000\n",
       "75%      15.600000     1.200000    12.970000\n",
       "max     110.090000     3.860000    36.580000"
      ]
     },
     "execution_count": 25,
     "metadata": {},
     "output_type": "execute_result"
    },
    {
     "data": {
      "image/png": "[encoded data removed]",
      "text/plain": [
       "<Figure size 432x288 with 1 Axes>"
      ]
     },
     "metadata": {
      "needs_background": "light"
     },
     "output_type": "display_data"
    }
   ],
   "source": [
    "df.plot(x='time',y=['watt', 'irms', 'vrms'])\n",
    "df[['watt', 'irms', 'vrms']].describe()"
   ]
  },
  {
   "cell_type": "markdown",
   "metadata": {},
   "source": [
    "# Temperature and humidity"
   ]
  },
  {
   "cell_type": "code",
   "execution_count": 26,
   "metadata": {},
   "outputs": [
    {
     "data": {
      "text/html": [
       "<div>\n",
       "<style scoped>\n",
       "    .dataframe tbody tr th:only-of-type {\n",
       "        vertical-align: middle;\n",
       "    }\n",
       "\n",
       "    .dataframe tbody tr th {\n",
       "        vertical-align: top;\n",
       "    }\n",
       "\n",
       "    .dataframe thead th {\n",
       "        text-align: right;\n",
       "    }\n",
       "</style>\n",
       "<table border=\"1\" class=\"dataframe\">\n",
       "  <thead>\n",
       "    <tr style=\"text-align: right;\">\n",
       "      <th></th>\n",
       "      <th>temp</th>\n",
       "      <th>humidity</th>\n",
       "    </tr>\n",
       "  </thead>\n",
       "  <tbody>\n",
       "    <tr>\n",
       "      <th>count</th>\n",
       "      <td>3353.000000</td>\n",
       "      <td>3353.000000</td>\n",
       "    </tr>\n",
       "    <tr>\n",
       "      <th>mean</th>\n",
       "      <td>20.204957</td>\n",
       "      <td>44.687891</td>\n",
       "    </tr>\n",
       "    <tr>\n",
       "      <th>std</th>\n",
       "      <td>0.612839</td>\n",
       "      <td>2.890993</td>\n",
       "    </tr>\n",
       "    <tr>\n",
       "      <th>min</th>\n",
       "      <td>19.150000</td>\n",
       "      <td>38.160000</td>\n",
       "    </tr>\n",
       "    <tr>\n",
       "      <th>25%</th>\n",
       "      <td>19.810000</td>\n",
       "      <td>42.620000</td>\n",
       "    </tr>\n",
       "    <tr>\n",
       "      <th>50%</th>\n",
       "      <td>20.050000</td>\n",
       "      <td>45.150000</td>\n",
       "    </tr>\n",
       "    <tr>\n",
       "      <th>75%</th>\n",
       "      <td>20.620000</td>\n",
       "      <td>46.840000</td>\n",
       "    </tr>\n",
       "    <tr>\n",
       "      <th>max</th>\n",
       "      <td>21.740000</td>\n",
       "      <td>50.790000</td>\n",
       "    </tr>\n",
       "  </tbody>\n",
       "</table>\n",
       "</div>"
      ],
      "text/plain": [
       "              temp     humidity\n",
       "count  3353.000000  3353.000000\n",
       "mean     20.204957    44.687891\n",
       "std       0.612839     2.890993\n",
       "min      19.150000    38.160000\n",
       "25%      19.810000    42.620000\n",
       "50%      20.050000    45.150000\n",
       "75%      20.620000    46.840000\n",
       "max      21.740000    50.790000"
      ]
     },
     "execution_count": 26,
     "metadata": {},
     "output_type": "execute_result"
    },
    {
     "data": {
      "image/png": "[encoded data removed]",
      "text/plain": [
       "<Figure size 432x288 with 1 Axes>"
      ]
     },
     "metadata": {
      "needs_background": "light"
     },
     "output_type": "display_data"
    }
   ],
   "source": [
    "df.plot(x='time',y=['temp', 'humidity'])\n",
    "df[['temp', 'humidity']].describe()"
   ]
  }
 ],
 "metadata": {
  "kernelspec": {
   "display_name": "Python 3",
   "language": "python",
   "name": "python3"
  },
  "language_info": {
   "codemirror_mode": {
    "name": "ipython",
    "version": 3
   },
   "file_extension": ".py",
   "mimetype": "text/x-python",
   "name": "python",
   "nbconvert_exporter": "python",
   "pygments_lexer": "ipython3",
   "version": "3.8.3"
  }
 },
 "nbformat": 4,
 "nbformat_minor": 4
}
