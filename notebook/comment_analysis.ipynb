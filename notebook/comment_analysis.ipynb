{
 "cells": [
  {
   "cell_type": "markdown",
   "metadata": {},
   "source": [
    "# 釣果コメントの分析サンプル"
   ]
  },
  {
   "cell_type": "code",
   "execution_count": 1,
   "metadata": {},
   "outputs": [],
   "source": [
    "from janome.tokenizer import Tokenizer\n",
    "import pandas as pd"
   ]
  },
  {
   "cell_type": "code",
   "execution_count": 2,
   "metadata": {},
   "outputs": [
    {
     "data": {
      "text/html": [
       "<div>\n",
       "<style scoped>\n",
       "    .dataframe tbody tr th:only-of-type {\n",
       "        vertical-align: middle;\n",
       "    }\n",
       "\n",
       "    .dataframe tbody tr th {\n",
       "        vertical-align: top;\n",
       "    }\n",
       "\n",
       "    .dataframe thead th {\n",
       "        text-align: right;\n",
       "    }\n",
       "</style>\n",
       "<table border=\"1\" class=\"dataframe\">\n",
       "  <thead>\n",
       "    <tr style=\"text-align: right;\">\n",
       "      <th></th>\n",
       "      <th>index</th>\n",
       "      <th>Date</th>\n",
       "      <th>Point</th>\n",
       "      <th>Weather</th>\n",
       "      <th>WaterTemp</th>\n",
       "      <th>Quantity</th>\n",
       "      <th>Comment</th>\n",
       "      <th>Tide</th>\n",
       "      <th>Time</th>\n",
       "    </tr>\n",
       "  </thead>\n",
       "  <tbody>\n",
       "    <tr>\n",
       "      <th>0</th>\n",
       "      <td>0</td>\n",
       "      <td>2017-12-30</td>\n",
       "      <td>daikoku</td>\n",
       "      <td>晴</td>\n",
       "      <td>12.0</td>\n",
       "      <td>150.0</td>\n",
       "      <td>本日は2017年の最終営業日でした。釣果が厳しい中、多くのお客様にお越しいただきまして...</td>\n",
       "      <td>中潮</td>\n",
       "      <td>None</td>\n",
       "    </tr>\n",
       "    <tr>\n",
       "      <th>1</th>\n",
       "      <td>0</td>\n",
       "      <td>2017-12-29</td>\n",
       "      <td>daikoku</td>\n",
       "      <td>晴</td>\n",
       "      <td>12.8</td>\n",
       "      <td>132.0</td>\n",
       "      <td>本日はご来場頂きありがとうございます。今日は風も弱く、波穏やかな冬晴れの一日となりま...</td>\n",
       "      <td>中潮</td>\n",
       "      <td>2017-12-29 17:25:00</td>\n",
       "    </tr>\n",
       "    <tr>\n",
       "      <th>2</th>\n",
       "      <td>0</td>\n",
       "      <td>2017-12-28</td>\n",
       "      <td>daikoku</td>\n",
       "      <td>晴</td>\n",
       "      <td>12.9</td>\n",
       "      <td>58.0</td>\n",
       "      <td>本日はご来場頂き誠にありがとうございます。今朝は厳しい寒さでしたが日中は風も無く...</td>\n",
       "      <td>若潮</td>\n",
       "      <td>2017-12-28 17:28:00</td>\n",
       "    </tr>\n",
       "  </tbody>\n",
       "</table>\n",
       "</div>"
      ],
      "text/plain": [
       "   index        Date    Point Weather  WaterTemp  Quantity  \\\n",
       "0      0  2017-12-30  daikoku       晴       12.0     150.0   \n",
       "1      0  2017-12-29  daikoku       晴       12.8     132.0   \n",
       "2      0  2017-12-28  daikoku       晴       12.9      58.0   \n",
       "\n",
       "                                             Comment Tide                 Time  \n",
       "0  本日は2017年の最終営業日でした。釣果が厳しい中、多くのお客様にお越しいただきまして...   中潮                 None  \n",
       "1  本日はご来場頂きありがとうございます。今日は風も弱く、波穏やかな冬晴れの一日となりま...   中潮  2017-12-29 17:25:00  \n",
       "2  本日はご来場頂き誠にありがとうございます。今朝は厳しい寒さでしたが日中は風も無く...   若潮  2017-12-28 17:28:00  "
      ]
     },
     "execution_count": 2,
     "metadata": {},
     "output_type": "execute_result"
    }
   ],
   "source": [
    "import sqlite3\n",
    "conn = sqlite3.connect(\"../data/fishing_result.db\")\n",
    "sql = '''\n",
    "select * from fishing_comments c limit 3\n",
    "'''\n",
    "comments=pd.read_sql_query(sql, conn)\n",
    "comments"
   ]
  },
  {
   "cell_type": "code",
   "execution_count": 3,
   "metadata": {},
   "outputs": [
    {
     "name": "stdout",
     "output_type": "stream",
     "text": [
      "本日は2017年の最終営業日でした。釣果が厳しい中、多くのお客様にお越しいただきまして有り難うございました。年明けは1月2日(月)6:00から通常営業いたします。(釣り餌売店の営業は7:00からです。ご注意ください。)本年も多くのお客様にご愛顧頂きまして、本当に有り難うございました。来年も安全で楽しくお過ごし頂ける施設運営に従業員一同励んでまいります。2018年も皆様にとって良い年となる事を祈願いたします。(17:30、大黒海づり施設従業員一同)\n",
      "1400\n",
      "本日はご来場頂きありがとうございます。今日は風も弱く、波穏やかな冬晴れの一日となりました。釣果は厳しく、朝方にアジ、日中にはウミタナゴが数を伸ばしました。夕方には、アジは来ましたが場所が限られたうえ一時で終わってしまいました。明日は今年の最終日になります。多くの皆様のご来場をお待ちしております。※12/1〜12/30は、時間延長イベントとして「6:00」から営業します。ただし釣り餌売店は「7:00」からとなりますので、エサや仕掛けなどの準備にご注意ください。※「釣果情報」につきましては、お帰り時にお聞きした集計となります。(大黒17:25)\n",
      "1920\n",
      "本日はご来場頂き誠にありがとうございます。今朝は厳しい寒さでしたが日中は風も無く釣り日和となりました。釣果は気温の低さと同様厳しくウミタナゴが数を伸ばしてくれましたアジは3時30分頃より桟橋内側先端にて回遊があり数は伸びなやみました。明日も晴れて気温低めです、暖かな服装でお越しください。尚、明日は『濱ともカード』の日です、受付で提示されますと料金半額です。(大黒17:28)※釣果情報は、お帰り時の聞き取りの集計となります。イベントとして6:00〜17:00で営業しています。売店は7:00〜16:00となりますので、エサや仕掛けなどの準備にご注意ください。\n",
      "1860\n"
     ]
    }
   ],
   "source": [
    "t = Tokenizer()\n",
    "words=pd.DataFrame()\n",
    "\n",
    "for comment in comments.to_dict('records'):\n",
    "    # コメントを形態素解析\n",
    "    print(comment['Comment'])\n",
    "    if not comment['Comment']:\n",
    "        continue\n",
    "    tokens = t.tokenize(comment['Comment'])\n",
    "    #print(len(list(tokens)))\n",
    "    #if not tokens:\n",
    "    #    continue\n",
    "    df_token=pd.DataFrame()\n",
    "    for token in tokens:\n",
    "        str_token=str(token).replace(\"\\t\",\",\")\n",
    "        token_list=str_token.split(\",\")\n",
    "        #print(token_list)\n",
    "        df_token = df_token.append(pd.Series(token_list),ignore_index=True)\n",
    "    print(df_token.size)\n",
    "    df_token = df_token.rename(columns={0:\"単語\",1:\"品詞\",2:\"品詞細分類1\"})\n",
    "\n",
    "    #名詞（代名詞、非自立名詞をのぞく）を抽出\n",
    "    noun = df_token[df_token[\"品詞\"]==\"名詞\"]\n",
    "    noun2=noun[(noun[\"品詞細分類1\"] != \"代名詞\") & (noun[\"品詞細分類1\"] != \"非自立\")]\n",
    "    noun3 = pd.DataFrame(noun2[\"単語\"])\n",
    "    noun3['Date'] = comment['Date']\n",
    "    noun3['Point'] = comment['Point']\n",
    "    words = words.append(noun3, ignore_index=True)"
   ]
  },
  {
   "cell_type": "code",
   "execution_count": 4,
   "metadata": {},
   "outputs": [
    {
     "data": {
      "text/html": [
       "<div>\n",
       "<style scoped>\n",
       "    .dataframe tbody tr th:only-of-type {\n",
       "        vertical-align: middle;\n",
       "    }\n",
       "\n",
       "    .dataframe tbody tr th {\n",
       "        vertical-align: top;\n",
       "    }\n",
       "\n",
       "    .dataframe thead th {\n",
       "        text-align: right;\n",
       "    }\n",
       "</style>\n",
       "<table border=\"1\" class=\"dataframe\">\n",
       "  <thead>\n",
       "    <tr style=\"text-align: right;\">\n",
       "      <th></th>\n",
       "      <th>単語</th>\n",
       "      <th>Date</th>\n",
       "      <th>Point</th>\n",
       "    </tr>\n",
       "  </thead>\n",
       "  <tbody>\n",
       "    <tr>\n",
       "      <th>count</th>\n",
       "      <td>252</td>\n",
       "      <td>252</td>\n",
       "      <td>252</td>\n",
       "    </tr>\n",
       "    <tr>\n",
       "      <th>unique</th>\n",
       "      <td>116</td>\n",
       "      <td>3</td>\n",
       "      <td>1</td>\n",
       "    </tr>\n",
       "    <tr>\n",
       "      <th>top</th>\n",
       "      <td>゙</td>\n",
       "      <td>2017-12-28</td>\n",
       "      <td>daikoku</td>\n",
       "    </tr>\n",
       "    <tr>\n",
       "      <th>freq</th>\n",
       "      <td>20</td>\n",
       "      <td>93</td>\n",
       "      <td>252</td>\n",
       "    </tr>\n",
       "  </tbody>\n",
       "</table>\n",
       "</div>"
      ],
      "text/plain": [
       "         単語        Date    Point\n",
       "count   252         252      252\n",
       "unique  116           3        1\n",
       "top       ゙  2017-12-28  daikoku\n",
       "freq     20          93      252"
      ]
     },
     "execution_count": 4,
     "metadata": {},
     "output_type": "execute_result"
    }
   ],
   "source": [
    "words.describe()"
   ]
  },
  {
   "cell_type": "code",
   "execution_count": 5,
   "metadata": {},
   "outputs": [],
   "source": [
    "wc = words.groupby(['単語']).size()"
   ]
  },
  {
   "cell_type": "code",
   "execution_count": 6,
   "metadata": {
    "scrolled": true
   },
   "outputs": [
    {
     "data": {
      "text/html": [
       "<div>\n",
       "<style scoped>\n",
       "    .dataframe tbody tr th:only-of-type {\n",
       "        vertical-align: middle;\n",
       "    }\n",
       "\n",
       "    .dataframe tbody tr th {\n",
       "        vertical-align: top;\n",
       "    }\n",
       "\n",
       "    .dataframe thead th {\n",
       "        text-align: right;\n",
       "    }\n",
       "</style>\n",
       "<table border=\"1\" class=\"dataframe\">\n",
       "  <thead>\n",
       "    <tr style=\"text-align: right;\">\n",
       "      <th></th>\n",
       "      <th>単語</th>\n",
       "      <th>count</th>\n",
       "    </tr>\n",
       "  </thead>\n",
       "  <tbody>\n",
       "    <tr>\n",
       "      <th>57</th>\n",
       "      <td>内側</td>\n",
       "      <td>1</td>\n",
       "    </tr>\n",
       "    <tr>\n",
       "      <th>74</th>\n",
       "      <td>年明け</td>\n",
       "      <td>1</td>\n",
       "    </tr>\n",
       "    <tr>\n",
       "      <th>71</th>\n",
       "      <td>安全</td>\n",
       "      <td>1</td>\n",
       "    </tr>\n",
       "    <tr>\n",
       "      <th>68</th>\n",
       "      <td>夕方</td>\n",
       "      <td>1</td>\n",
       "    </tr>\n",
       "    <tr>\n",
       "      <th>66</th>\n",
       "      <td>場所</td>\n",
       "      <td>1</td>\n",
       "    </tr>\n",
       "  </tbody>\n",
       "</table>\n",
       "</div>"
      ],
      "text/plain": [
       "     単語  count\n",
       "57   内側      1\n",
       "74  年明け      1\n",
       "71   安全      1\n",
       "68   夕方      1\n",
       "66   場所      1"
      ]
     },
     "execution_count": 6,
     "metadata": {},
     "output_type": "execute_result"
    }
   ],
   "source": [
    "wc2 = wc.reset_index(name='count').sort_values(['count'], ascending=True)\n",
    "wc2.head()"
   ]
  },
  {
   "cell_type": "code",
   "execution_count": null,
   "metadata": {},
   "outputs": [],
   "source": []
  }
 ],
 "metadata": {
  "kernelspec": {
   "display_name": "Python 3",
   "language": "python",
   "name": "python3"
  },
  "language_info": {
   "codemirror_mode": {
    "name": "ipython",
    "version": 3
   },
   "file_extension": ".py",
   "mimetype": "text/x-python",
   "name": "python",
   "nbconvert_exporter": "python",
   "pygments_lexer": "ipython3",
   "version": "3.8.3"
  }
 },
 "nbformat": 4,
 "nbformat_minor": 4
}
