{
 "cells": [
  {
   "cell_type": "code",
   "execution_count": 16,
   "metadata": {},
   "outputs": [],
   "source": [
    "# モジュールのインポート\n",
    "\n",
    "import pandas as pd\n",
    "import matplotlib.pyplot as plt\n",
    "import japanize_matplotlib\n",
    "import datetime\n",
    "import jpholiday\n",
    "import sqlite3\n",
    "import seaborn as sns\n"
   ]
  },
  {
   "cell_type": "code",
   "execution_count": 17,
   "metadata": {},
   "outputs": [],
   "source": [
    "results = pd.read_csv('../weather_yokohama.csv', index_col = 0)\n"
   ]
  },
  {
   "cell_type": "code",
   "execution_count": 18,
   "metadata": {},
   "outputs": [
    {
     "data": {
      "text/plain": [
       "Index(['平均気温(℃)', '平均気温(℃)1', '平均気温(℃)2', '最高気温(℃)', '最高気温(℃)1', '最高気温(℃)2',\n",
       "       '最低気温(℃)', '最低気温(℃)1', '最低気温(℃)2', '降水量の合計(mm)', '降水量の合計(mm)1',\n",
       "       '降水量の合計(mm)2', '降水量の合計(mm).1', '平均風速(m/s)', '平均風速(m/s)1', '平均風速(m/s)2',\n",
       "       '最大風速(m/s)', '最大風速(m/s)1', '最大風速(m/s)2', '最大風速(m/s)3', '最大風速(m/s)4',\n",
       "       '平均蒸気圧(hPa)', '平均蒸気圧(hPa)1', '平均蒸気圧(hPa)2'],\n",
       "      dtype='object')"
      ]
     },
     "execution_count": 18,
     "metadata": {},
     "output_type": "execute_result"
    }
   ],
   "source": [
    "results.columns"
   ]
  },
  {
   "cell_type": "code",
   "execution_count": 19,
   "metadata": {},
   "outputs": [],
   "source": [
    "df = results[['平均気温(℃)', '最高気温(℃)', '最低気温(℃)', '降水量の合計(mm)', '平均風速(m/s)', '最大風速(m/s)', '平均蒸気圧(hPa)']]\n"
   ]
  },
  {
   "cell_type": "code",
   "execution_count": 20,
   "metadata": {},
   "outputs": [
    {
     "name": "stderr",
     "output_type": "stream",
     "text": [
      "<ipython-input-20-3a584d3c28b8>:1: SettingWithCopyWarning: \n",
      "A value is trying to be set on a copy of a slice from a DataFrame.\n",
      "Try using .loc[row_indexer,col_indexer] = value instead\n",
      "\n",
      "See the caveats in the documentation: https://pandas.pydata.org/pandas-docs/stable/user_guide/indexing.html#returning-a-view-versus-a-copy\n",
      "  df['日付'] = pd.to_datetime(df.index)\n"
     ]
    }
   ],
   "source": [
    "df['日付'] = pd.to_datetime(df.index)"
   ]
  },
  {
   "cell_type": "code",
   "execution_count": 25,
   "metadata": {},
   "outputs": [],
   "source": [
    "df.columns = ['TempAve', 'TempMax', 'TempMin', 'RainMm', 'WinMsAve', 'WinMsMax', 'hPA', 'Date']"
   ]
  },
  {
   "cell_type": "code",
   "execution_count": 27,
   "metadata": {
    "scrolled": true
   },
   "outputs": [
    {
     "name": "stderr",
     "output_type": "stream",
     "text": [
      "<ipython-input-27-2929112bdde2>:1: SettingWithCopyWarning: \n",
      "A value is trying to be set on a copy of a slice from a DataFrame.\n",
      "Try using .loc[row_indexer,col_indexer] = value instead\n",
      "\n",
      "See the caveats in the documentation: https://pandas.pydata.org/pandas-docs/stable/user_guide/indexing.html#returning-a-view-versus-a-copy\n",
      "  df['Date'] = df.Date.dt.strftime('%Y-%m-%d')\n"
     ]
    }
   ],
   "source": [
    "df['Date'] = df.Date.dt.strftime('%Y-%m-%d')"
   ]
  },
  {
   "cell_type": "code",
   "execution_count": 28,
   "metadata": {},
   "outputs": [
    {
     "data": {
      "text/html": [
       "<div>\n",
       "<style scoped>\n",
       "    .dataframe tbody tr th:only-of-type {\n",
       "        vertical-align: middle;\n",
       "    }\n",
       "\n",
       "    .dataframe tbody tr th {\n",
       "        vertical-align: top;\n",
       "    }\n",
       "\n",
       "    .dataframe thead th {\n",
       "        text-align: right;\n",
       "    }\n",
       "</style>\n",
       "<table border=\"1\" class=\"dataframe\">\n",
       "  <thead>\n",
       "    <tr style=\"text-align: right;\">\n",
       "      <th></th>\n",
       "      <th>TempAve</th>\n",
       "      <th>TempMax</th>\n",
       "      <th>TempMin</th>\n",
       "      <th>RainMm</th>\n",
       "      <th>WinMsAve</th>\n",
       "      <th>WinMsMax</th>\n",
       "      <th>hPA</th>\n",
       "      <th>Date</th>\n",
       "    </tr>\n",
       "    <tr>\n",
       "      <th>年月日</th>\n",
       "      <th></th>\n",
       "      <th></th>\n",
       "      <th></th>\n",
       "      <th></th>\n",
       "      <th></th>\n",
       "      <th></th>\n",
       "      <th></th>\n",
       "      <th></th>\n",
       "    </tr>\n",
       "  </thead>\n",
       "  <tbody>\n",
       "    <tr>\n",
       "      <th>01/04/2018</th>\n",
       "      <td>16.1</td>\n",
       "      <td>21.0</td>\n",
       "      <td>11.8</td>\n",
       "      <td>0.0</td>\n",
       "      <td>4.6</td>\n",
       "      <td>7.9</td>\n",
       "      <td>11.8</td>\n",
       "      <td>2018-01-04</td>\n",
       "    </tr>\n",
       "    <tr>\n",
       "      <th>02/04/2018</th>\n",
       "      <td>17.6</td>\n",
       "      <td>23.5</td>\n",
       "      <td>13.9</td>\n",
       "      <td>0.0</td>\n",
       "      <td>2.7</td>\n",
       "      <td>4.9</td>\n",
       "      <td>13.5</td>\n",
       "      <td>2018-02-04</td>\n",
       "    </tr>\n",
       "    <tr>\n",
       "      <th>03/04/2018</th>\n",
       "      <td>18.2</td>\n",
       "      <td>23.5</td>\n",
       "      <td>15.0</td>\n",
       "      <td>0.0</td>\n",
       "      <td>2.9</td>\n",
       "      <td>5.5</td>\n",
       "      <td>15.1</td>\n",
       "      <td>2018-03-04</td>\n",
       "    </tr>\n",
       "    <tr>\n",
       "      <th>04/04/2018</th>\n",
       "      <td>20.2</td>\n",
       "      <td>25.8</td>\n",
       "      <td>15.6</td>\n",
       "      <td>0.0</td>\n",
       "      <td>4.1</td>\n",
       "      <td>10.2</td>\n",
       "      <td>15.0</td>\n",
       "      <td>2018-04-04</td>\n",
       "    </tr>\n",
       "    <tr>\n",
       "      <th>05/04/2018</th>\n",
       "      <td>13.5</td>\n",
       "      <td>15.9</td>\n",
       "      <td>11.8</td>\n",
       "      <td>0.0</td>\n",
       "      <td>3.0</td>\n",
       "      <td>5.5</td>\n",
       "      <td>11.4</td>\n",
       "      <td>2018-05-04</td>\n",
       "    </tr>\n",
       "  </tbody>\n",
       "</table>\n",
       "</div>"
      ],
      "text/plain": [
       "            TempAve  TempMax  TempMin  RainMm  WinMsAve  WinMsMax   hPA  \\\n",
       "年月日                                                                       \n",
       "01/04/2018     16.1     21.0     11.8     0.0       4.6       7.9  11.8   \n",
       "02/04/2018     17.6     23.5     13.9     0.0       2.7       4.9  13.5   \n",
       "03/04/2018     18.2     23.5     15.0     0.0       2.9       5.5  15.1   \n",
       "04/04/2018     20.2     25.8     15.6     0.0       4.1      10.2  15.0   \n",
       "05/04/2018     13.5     15.9     11.8     0.0       3.0       5.5  11.4   \n",
       "\n",
       "                  Date  \n",
       "年月日                     \n",
       "01/04/2018  2018-01-04  \n",
       "02/04/2018  2018-02-04  \n",
       "03/04/2018  2018-03-04  \n",
       "04/04/2018  2018-04-04  \n",
       "05/04/2018  2018-05-04  "
      ]
     },
     "execution_count": 28,
     "metadata": {},
     "output_type": "execute_result"
    }
   ],
   "source": [
    "df.head()"
   ]
  },
  {
   "cell_type": "code",
   "execution_count": 29,
   "metadata": {},
   "outputs": [],
   "source": [
    "import dataset as ds\n",
    "\n",
    "db = ds.connect('sqlite:///../fishing_result.db')\n",
    "df.to_sql(\"weathers\", db.engine, if_exists=\"replace\")"
   ]
  },
  {
   "cell_type": "code",
   "execution_count": null,
   "metadata": {},
   "outputs": [],
   "source": []
  }
 ],
 "metadata": {
  "kernelspec": {
   "display_name": "Python 3",
   "language": "python",
   "name": "python3"
  },
  "language_info": {
   "codemirror_mode": {
    "name": "ipython",
    "version": 3
   },
   "file_extension": ".py",
   "mimetype": "text/x-python",
   "name": "python",
   "nbconvert_exporter": "python",
   "pygments_lexer": "ipython3",
   "version": "3.8.3"
  }
 },
 "nbformat": 4,
 "nbformat_minor": 4
}
